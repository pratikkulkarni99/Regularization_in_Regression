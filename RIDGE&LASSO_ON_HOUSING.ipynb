{
 "cells": [
  {
   "cell_type": "code",
   "execution_count": 1,
   "id": "3e6afaf6",
   "metadata": {},
   "outputs": [
    {
     "data": {
      "application/javascript": [
       "\n",
       "        if (window._pyforest_update_imports_cell) { window._pyforest_update_imports_cell('import pandas as pd'); }\n",
       "    "
      ],
      "text/plain": [
       "<IPython.core.display.Javascript object>"
      ]
     },
     "metadata": {},
     "output_type": "display_data"
    },
    {
     "name": "stdout",
     "output_type": "stream",
     "text": [
      "        RM  LSTAT  PTRATIO    MEDV\n",
      "0    6.575   4.98     15.3  504000\n",
      "1    6.421   9.14     17.8  453600\n",
      "2    7.185   4.03     17.8  728700\n",
      "3    6.998   2.94     18.7  701400\n",
      "4    7.147   5.33     18.7  760200\n",
      "..     ...    ...      ...     ...\n",
      "484  6.593   9.67     21.0  470400\n",
      "485  6.120   9.08     21.0  432600\n",
      "486  6.976   5.64     21.0  501900\n",
      "487  6.794   6.48     21.0  462000\n",
      "488  6.030   7.88     21.0  249900\n",
      "\n",
      "[489 rows x 4 columns]\n"
     ]
    }
   ],
   "source": [
    "#laoding a dataset\n",
    "df=pd.read_csv(\"C:\\\\Users\\\\Pratik1\\\\Desktop\\\\dataset\\\\data's\\\\housing.csv\")\n",
    "print(df)"
   ]
  },
  {
   "cell_type": "code",
   "execution_count": 2,
   "id": "33f633a3",
   "metadata": {},
   "outputs": [
    {
     "data": {
      "text/plain": [
       "RM         False\n",
       "LSTAT      False\n",
       "PTRATIO    False\n",
       "MEDV       False\n",
       "dtype: bool"
      ]
     },
     "execution_count": 2,
     "metadata": {},
     "output_type": "execute_result"
    }
   ],
   "source": [
    "df.isna().any()"
   ]
  },
  {
   "cell_type": "code",
   "execution_count": 3,
   "id": "2bbb4499",
   "metadata": {},
   "outputs": [
    {
     "data": {
      "text/html": [
       "<div>\n",
       "<style scoped>\n",
       "    .dataframe tbody tr th:only-of-type {\n",
       "        vertical-align: middle;\n",
       "    }\n",
       "\n",
       "    .dataframe tbody tr th {\n",
       "        vertical-align: top;\n",
       "    }\n",
       "\n",
       "    .dataframe thead th {\n",
       "        text-align: right;\n",
       "    }\n",
       "</style>\n",
       "<table border=\"1\" class=\"dataframe\">\n",
       "  <thead>\n",
       "    <tr style=\"text-align: right;\">\n",
       "      <th></th>\n",
       "      <th>RM</th>\n",
       "      <th>LSTAT</th>\n",
       "      <th>PTRATIO</th>\n",
       "      <th>MEDV</th>\n",
       "    </tr>\n",
       "  </thead>\n",
       "  <tbody>\n",
       "    <tr>\n",
       "      <th>0</th>\n",
       "      <td>6.575</td>\n",
       "      <td>4.98</td>\n",
       "      <td>15.3</td>\n",
       "      <td>504000</td>\n",
       "    </tr>\n",
       "    <tr>\n",
       "      <th>1</th>\n",
       "      <td>6.421</td>\n",
       "      <td>9.14</td>\n",
       "      <td>17.8</td>\n",
       "      <td>453600</td>\n",
       "    </tr>\n",
       "    <tr>\n",
       "      <th>2</th>\n",
       "      <td>7.185</td>\n",
       "      <td>4.03</td>\n",
       "      <td>17.8</td>\n",
       "      <td>728700</td>\n",
       "    </tr>\n",
       "    <tr>\n",
       "      <th>3</th>\n",
       "      <td>6.998</td>\n",
       "      <td>2.94</td>\n",
       "      <td>18.7</td>\n",
       "      <td>701400</td>\n",
       "    </tr>\n",
       "    <tr>\n",
       "      <th>4</th>\n",
       "      <td>7.147</td>\n",
       "      <td>5.33</td>\n",
       "      <td>18.7</td>\n",
       "      <td>760200</td>\n",
       "    </tr>\n",
       "  </tbody>\n",
       "</table>\n",
       "</div>"
      ],
      "text/plain": [
       "      RM  LSTAT  PTRATIO    MEDV\n",
       "0  6.575   4.98     15.3  504000\n",
       "1  6.421   9.14     17.8  453600\n",
       "2  7.185   4.03     17.8  728700\n",
       "3  6.998   2.94     18.7  701400\n",
       "4  7.147   5.33     18.7  760200"
      ]
     },
     "execution_count": 3,
     "metadata": {},
     "output_type": "execute_result"
    }
   ],
   "source": [
    "df.head()"
   ]
  },
  {
   "cell_type": "code",
   "execution_count": 4,
   "id": "0948cefb",
   "metadata": {},
   "outputs": [
    {
     "data": {
      "text/plain": [
       "array([[<AxesSubplot:title={'center':'RM'}>,\n",
       "        <AxesSubplot:title={'center':'LSTAT'}>],\n",
       "       [<AxesSubplot:title={'center':'PTRATIO'}>,\n",
       "        <AxesSubplot:title={'center':'MEDV'}>]], dtype=object)"
      ]
     },
     "execution_count": 4,
     "metadata": {},
     "output_type": "execute_result"
    },
    {
     "data": {
      "image/png": "[encoded data removed]",
      "text/plain": [
       "<Figure size 432x288 with 4 Axes>"
      ]
     },
     "metadata": {
      "needs_background": "light"
     },
     "output_type": "display_data"
    }
   ],
   "source": [
    "df.hist(bins=20)"
   ]
  },
  {
   "cell_type": "code",
   "execution_count": 5,
   "id": "44d9a61e",
   "metadata": {},
   "outputs": [
    {
     "name": "stdout",
     "output_type": "stream",
     "text": [
      "<class 'pandas.core.frame.DataFrame'>\n",
      "RangeIndex: 489 entries, 0 to 488\n",
      "Data columns (total 4 columns):\n",
      " #   Column   Non-Null Count  Dtype  \n",
      "---  ------   --------------  -----  \n",
      " 0   RM       489 non-null    float64\n",
      " 1   LSTAT    489 non-null    float64\n",
      " 2   PTRATIO  489 non-null    float64\n",
      " 3   MEDV     489 non-null    int64  \n",
      "dtypes: float64(3), int64(1)\n",
      "memory usage: 15.4 KB\n"
     ]
    }
   ],
   "source": [
    "df.info()"
   ]
  },
  {
   "cell_type": "code",
   "execution_count": 6,
   "id": "0e696fe3",
   "metadata": {},
   "outputs": [
    {
     "data": {
      "text/html": [
       "<div>\n",
       "<style scoped>\n",
       "    .dataframe tbody tr th:only-of-type {\n",
       "        vertical-align: middle;\n",
       "    }\n",
       "\n",
       "    .dataframe tbody tr th {\n",
       "        vertical-align: top;\n",
       "    }\n",
       "\n",
       "    .dataframe thead th {\n",
       "        text-align: right;\n",
       "    }\n",
       "</style>\n",
       "<table border=\"1\" class=\"dataframe\">\n",
       "  <thead>\n",
       "    <tr style=\"text-align: right;\">\n",
       "      <th></th>\n",
       "      <th>RM</th>\n",
       "      <th>LSTAT</th>\n",
       "      <th>PTRATIO</th>\n",
       "      <th>MEDV</th>\n",
       "    </tr>\n",
       "  </thead>\n",
       "  <tbody>\n",
       "    <tr>\n",
       "      <th>count</th>\n",
       "      <td>489.000000</td>\n",
       "      <td>489.000000</td>\n",
       "      <td>489.000000</td>\n",
       "      <td>4.890000e+02</td>\n",
       "    </tr>\n",
       "    <tr>\n",
       "      <th>mean</th>\n",
       "      <td>6.240288</td>\n",
       "      <td>12.939632</td>\n",
       "      <td>18.516564</td>\n",
       "      <td>4.543429e+05</td>\n",
       "    </tr>\n",
       "    <tr>\n",
       "      <th>std</th>\n",
       "      <td>0.643650</td>\n",
       "      <td>7.081990</td>\n",
       "      <td>2.111268</td>\n",
       "      <td>1.653403e+05</td>\n",
       "    </tr>\n",
       "    <tr>\n",
       "      <th>min</th>\n",
       "      <td>3.561000</td>\n",
       "      <td>1.980000</td>\n",
       "      <td>12.600000</td>\n",
       "      <td>1.050000e+05</td>\n",
       "    </tr>\n",
       "    <tr>\n",
       "      <th>25%</th>\n",
       "      <td>5.880000</td>\n",
       "      <td>7.370000</td>\n",
       "      <td>17.400000</td>\n",
       "      <td>3.507000e+05</td>\n",
       "    </tr>\n",
       "    <tr>\n",
       "      <th>50%</th>\n",
       "      <td>6.185000</td>\n",
       "      <td>11.690000</td>\n",
       "      <td>19.100000</td>\n",
       "      <td>4.389000e+05</td>\n",
       "    </tr>\n",
       "    <tr>\n",
       "      <th>75%</th>\n",
       "      <td>6.575000</td>\n",
       "      <td>17.120000</td>\n",
       "      <td>20.200000</td>\n",
       "      <td>5.187000e+05</td>\n",
       "    </tr>\n",
       "    <tr>\n",
       "      <th>max</th>\n",
       "      <td>8.398000</td>\n",
       "      <td>37.970000</td>\n",
       "      <td>22.000000</td>\n",
       "      <td>1.024800e+06</td>\n",
       "    </tr>\n",
       "  </tbody>\n",
       "</table>\n",
       "</div>"
      ],
      "text/plain": [
       "               RM       LSTAT     PTRATIO          MEDV\n",
       "count  489.000000  489.000000  489.000000  4.890000e+02\n",
       "mean     6.240288   12.939632   18.516564  4.543429e+05\n",
       "std      0.643650    7.081990    2.111268  1.653403e+05\n",
       "min      3.561000    1.980000   12.600000  1.050000e+05\n",
       "25%      5.880000    7.370000   17.400000  3.507000e+05\n",
       "50%      6.185000   11.690000   19.100000  4.389000e+05\n",
       "75%      6.575000   17.120000   20.200000  5.187000e+05\n",
       "max      8.398000   37.970000   22.000000  1.024800e+06"
      ]
     },
     "execution_count": 6,
     "metadata": {},
     "output_type": "execute_result"
    }
   ],
   "source": [
    "df.describe()"
   ]
  },
  {
   "cell_type": "code",
   "execution_count": 7,
   "id": "8e3e825c",
   "metadata": {},
   "outputs": [
    {
     "data": {
      "application/javascript": [
       "\n",
       "        if (window._pyforest_update_imports_cell) { window._pyforest_update_imports_cell('import pandas as pd\\nimport matplotlib.pyplot as plt'); }\n",
       "    "
      ],
      "text/plain": [
       "<IPython.core.display.Javascript object>"
      ]
     },
     "metadata": {},
     "output_type": "display_data"
    },
    {
     "data": {
      "application/javascript": [
       "\n",
       "        if (window._pyforest_update_imports_cell) { window._pyforest_update_imports_cell('import pandas as pd\\nimport matplotlib.pyplot as plt'); }\n",
       "    "
      ],
      "text/plain": [
       "<IPython.core.display.Javascript object>"
      ]
     },
     "metadata": {},
     "output_type": "display_data"
    },
    {
     "data": {
      "application/javascript": [
       "\n",
       "        if (window._pyforest_update_imports_cell) { window._pyforest_update_imports_cell('import pandas as pd\\nimport matplotlib.pyplot as plt'); }\n",
       "    "
      ],
      "text/plain": [
       "<IPython.core.display.Javascript object>"
      ]
     },
     "metadata": {},
     "output_type": "display_data"
    },
    {
     "data": {
      "image/png": "[encoded data removed]",
      "text/plain": [
       "<Figure size 576x360 with 1 Axes>"
      ]
     },
     "metadata": {
      "needs_background": "light"
     },
     "output_type": "display_data"
    }
   ],
   "source": [
    "plt.figure(figsize=(8,5))\n",
    "plt.scatter(df['RM'],df['MEDV'],color='k')\n",
    "plt.grid()"
   ]
  },
  {
   "cell_type": "code",
   "execution_count": 8,
   "id": "0eae122e",
   "metadata": {},
   "outputs": [],
   "source": [
    "x=df.drop(columns=['MEDV'])\n",
    "y=df['MEDV']"
   ]
  },
  {
   "cell_type": "code",
   "execution_count": 9,
   "id": "0e4ba5a3",
   "metadata": {},
   "outputs": [],
   "source": [
    "from sklearn.model_selection import train_test_split\n",
    "xtrain,xtest,ytrain,ytest=train_test_split(x,y,test_size=0.2)"
   ]
  },
  {
   "cell_type": "code",
   "execution_count": 10,
   "id": "7d277939",
   "metadata": {},
   "outputs": [
    {
     "data": {
      "text/plain": [
       "0.7248096139687406"
      ]
     },
     "execution_count": 10,
     "metadata": {},
     "output_type": "execute_result"
    }
   ],
   "source": [
    "from sklearn.linear_model import LinearRegression\n",
    "model=LinearRegression()\n",
    "model.fit(xtrain,ytrain)\n",
    "model.score(xtrain,ytrain)"
   ]
  },
  {
   "cell_type": "code",
   "execution_count": 11,
   "id": "8a6b3b47",
   "metadata": {},
   "outputs": [
    {
     "data": {
      "text/plain": [
       "array([560365.94011944, 241322.38809913, 689354.04762768, 412043.50077324,\n",
       "       551595.26467435, 289384.50073873, 519044.44105463, 556971.87368556,\n",
       "       370428.99574644, 600540.40290906, 398794.17183067, 248946.71732684,\n",
       "       714931.43496999, 580514.29423452, 469281.02636265, 328798.09014067,\n",
       "       109084.62235691, 666238.61259679, 648071.30438588, 294869.3777553 ,\n",
       "       631323.40029946, 494255.06937251, 537292.70847636, 519634.52863575,\n",
       "       704617.80913362, 418169.04190051, 499733.54680378, 447517.5827041 ,\n",
       "       453257.92674737, 265705.21122027, 529678.51615627, 375843.45473172,\n",
       "       395270.76166014, 413858.87893248, 416638.33983008, 395909.91246556,\n",
       "       475883.70593085, 367656.5092499 , 581550.59071515, 338043.96775626,\n",
       "       420578.16170219, 240748.71776136, 604796.63501582, 652945.223927  ,\n",
       "       404040.37005723, 470005.97538278, 379401.16139995, 381158.56368476,\n",
       "       571504.25797094, 464069.69145611, 496617.1840865 , 512353.02991221,\n",
       "       120373.6973516 , 573972.69710028, 638478.18357531, 373955.39323057,\n",
       "       517813.14120145, 619433.35083953, 529848.85903556, 450478.66367535,\n",
       "       510074.52604033, 360050.65410463, 463736.48431383, 622596.25773374,\n",
       "       468441.3950984 , 427536.2890742 , 480818.77382508, 398137.00854899,\n",
       "       443282.0373375 , 428311.49358079, 597727.50540569, 375493.57190639,\n",
       "       294767.56927185, 504869.84317261, 629573.87759079, 366403.35370451,\n",
       "       496997.67740307, 464622.64442404, 580414.13493441, 645324.71861266,\n",
       "       569971.28127732, 507186.83711186, 140116.30086805, 351637.45466572,\n",
       "       341570.20671178, 409425.10908719, 618924.41032271, 350413.21046371,\n",
       "       574211.28596923, 446436.77822805, 560830.5764669 , 417474.30772046,\n",
       "       641891.6678862 , 306740.31971745, 405244.63288992, 468463.82961389,\n",
       "       206949.41971679, 507735.90088887])"
      ]
     },
     "execution_count": 11,
     "metadata": {},
     "output_type": "execute_result"
    }
   ],
   "source": [
    "ypred=model.predict(xtest)\n",
    "ypred"
   ]
  },
  {
   "cell_type": "code",
   "execution_count": 12,
   "id": "beb5e354",
   "metadata": {},
   "outputs": [
    {
     "data": {
      "text/plain": [
       "0.6296968181318962"
      ]
     },
     "execution_count": 12,
     "metadata": {},
     "output_type": "execute_result"
    }
   ],
   "source": [
    "from sklearn.metrics import r2_score\n",
    "score=r2_score(ypred,ytest)\n",
    "score"
   ]
  },
  {
   "cell_type": "code",
   "execution_count": 13,
   "id": "5136fe86",
   "metadata": {},
   "outputs": [
    {
     "name": "stdout",
     "output_type": "stream",
     "text": [
      "[[ 0.52055395 -1.1250769  -1.5250831 ]\n",
      " [ 0.28104837 -0.53706982 -0.33974768]\n",
      " [ 1.46924486 -1.25935736 -0.33974768]\n",
      " ...\n",
      " [ 1.14420158 -1.03178731  1.17748167]\n",
      " [ 0.86114953 -0.91305511  1.17748167]\n",
      " [-0.32704695 -0.71516812  1.17748167]]\n"
     ]
    }
   ],
   "source": [
    "from sklearn import preprocessing \n",
    "x=preprocessing.scale(x)\n",
    "print(x)"
   ]
  },
  {
   "cell_type": "code",
   "execution_count": 14,
   "id": "c502832e",
   "metadata": {},
   "outputs": [
    {
     "name": "stdout",
     "output_type": "stream",
     "text": [
      "[ 0.30064004 -0.00449803  1.66104726  1.49576414  1.85175855  0.89820209\n",
      "  0.16078509  0.69477671 -0.65291643 -0.34777836 -0.84362772 -0.34777836\n",
      "  0.00821606 -0.15706706 -0.43677696 -0.2206375   0.18621326 -0.52577556\n",
      " -0.18249524 -0.43677696 -1.02162492 -0.25877975 -0.81819955 -0.90719815\n",
      " -0.7673432  -0.98348267 -0.64020234 -0.86905589 -0.41134879 -0.08078255\n",
      " -1.1360517  -0.90719815 -1.07248127 -1.08519536 -1.03433901 -0.34777836\n",
      " -0.20792341 -0.08078255  0.38963864  1.1651979   1.68647543  0.63120628\n",
      "  0.46592316  0.38963864 -0.05535438 -0.29692201 -0.20792341 -0.64020234\n",
      " -0.91991224 -0.28420793 -0.24606567 -0.14435298  0.4277809   0.22435552\n",
      " -0.34777836  1.75004586  0.38963864  1.26691059  0.21164143 -0.25877975\n",
      " -0.37320653 -0.71648686  0.07178649  0.4277809   1.44490779  0.23706961\n",
      " -0.28420793  0.04635831 -0.53848965 -0.09349663  0.32606821  0.00821606\n",
      "  0.148071    0.22435552  0.31335412 -0.0299262  -0.20792341 -0.10621072\n",
      " -0.05535438 -0.16978115  0.80920348  0.28792595  0.40235273  0.16078509\n",
      "  0.28792595  0.63120628  0.10992875  0.07178649  0.24978369  0.89820209\n",
      "  0.12264283  0.04635831  0.16078509  0.4277809  -0.13163889  0.86005983\n",
      " -0.0299262   2.16961071  2.8180291   1.47033597  0.74563305  0.61849219\n",
      " -0.38592062 -0.29692201 -0.19520932 -0.27149384 -0.27149384 -0.15706706\n",
      " -0.23335158 -0.28420793  0.00821606  0.148071   -0.36049244 -0.37320653\n",
      " -0.3986347  -0.42406287 -0.05535438 -0.3096361  -0.15706706 -0.29692201\n",
      "  0.04635831 -0.16978115 -0.14435298 -0.55120374 -0.36049244 -0.0299262\n",
      " -0.75462911 -0.69105868 -0.46220513 -0.93262632 -0.3096361  -0.25877975\n",
      "  0.17349918 -0.41134879 -0.7673432  -0.44949105 -0.53848965 -0.57663191\n",
      " -1.05976718 -0.48763331 -0.97076858 -0.91991224 -1.0470531  -0.7673432\n",
      " -1.25047848 -0.99619675 -0.7673432  -0.89448406 -0.48763331 -0.79277137\n",
      " -0.01721212 -0.25877975 -0.80548546 -0.28420793 -0.58934599 -0.7673432\n",
      " -1.08519536  2.50017695  0.3387823   0.21164143  0.68206262  0.13535692\n",
      "  0.4277809   0.27521187  0.27521187  0.08450057 -0.53848965 -0.32235018\n",
      "  0.18621326  0.24978369  0.12264283  0.98720069  0.19892735  0.37692455\n",
      "  1.05077112  1.97889941  2.30946565  1.85175855  2.06789802  1.38133736\n",
      "  0.60577811  1.01262886  1.31776693  1.03805704  1.68647543  1.95347124\n",
      "  1.12705564  1.87718672  1.20334016  0.94905843  1.48305005  1.10162747\n",
      "  1.64833317  1.68647543  1.43219371  0.31335412  2.62731781  3.41559115\n",
      "  0.12264283  0.35149638  0.10992875  0.35149638 -0.20792341  0.00821606\n",
      " -0.29692201  0.09721466  0.82191757  0.26249778  0.4277809   0.21164143\n",
      "  0.89820209 -0.01721212  0.17349918  0.64392036  0.00821606  0.74563305\n",
      "  1.07619929  2.94516996  2.02975576  1.26691059  3.1867376   1.2541965\n",
      "  0.3387823   1.27962467  2.55103329  3.39016298  0.93634435  0.30064004\n",
      "  0.44049499  1.2541965   0.26249778  0.21164143  0.04635831 -0.19520932\n",
      "  0.07178649  0.26249778 -0.51306148 -0.3986347   0.3387823  -0.14435298\n",
      "  0.36421047  0.58034993  0.35149638  0.40235273  1.01262886  2.69088824\n",
      "  0.03364423 -0.09349663  2.84345727  1.82633038  1.07619929  1.54662048\n",
      "  2.7290305   3.45373341  1.19062607  1.88990081  0.148071    1.15248381\n",
      "  2.77988684 -0.11892481 -0.06806846  0.45320907  0.35149638  1.72461769\n",
      "  1.36862328  1.31776693  1.47033597  1.45762188  0.94905843  1.7119036\n",
      "  3.02145448  1.75004586  3.097739    1.3431951   0.04635831 -0.19520932\n",
      "  0.19892735  0.08450057  0.40235273  0.87277392  1.9916135   0.7964894\n",
      "  0.28792595  0.00821606  0.885488    0.69477671 -0.16978115  0.10992875\n",
      "  0.93634435  0.40235273  0.04635831  0.60577811  1.45762188  1.83904446\n",
      "  0.86005983  1.49576414  0.83463166  0.148071   -0.16978115 -0.70377277\n",
      "  0.0590724  -0.28420793 -0.00449803  0.27521187 -0.69105868 -0.48763331\n",
      " -0.23335158  0.18621326 -0.08078255  0.27521187  0.18621326 -0.15706706\n",
      " -0.3986347   0.4277809   0.37692455  0.17349918  0.07178649 -0.29692201\n",
      "  0.12264283 -0.23335158 -0.57663191 -0.28420793  0.07178649 -0.11892481\n",
      " -0.06806846 -0.27149384 -0.3986347  -0.13163889 -0.33506427 -0.37320653\n",
      "  1.40676553 -0.65291643  0.28792595  1.21605424 -0.52577556 -0.56391782\n",
      "  0.18621326  0.36421047  0.63120628  0.16078509  0.31335412 -0.38592062\n",
      "  1.07619929 -0.43677696 -0.13163889 -0.48763331  0.00821606  0.13535692\n",
      "  0.12264283  0.4277809  -0.2206375  -0.10621072 -0.61477417  0.74563305\n",
      "  0.03364423  0.18621326 -0.99619675 -0.99619675 -0.84362772 -0.98348267\n",
      " -1.05976718 -1.08519536 -1.45390385 -1.42847568 -1.36490525 -1.31404891\n",
      " -1.18690804 -1.63190106 -1.83532644 -1.4157616  -1.80989827 -1.45390385\n",
      " -1.28862073 -0.83091363  0.19892735 -1.51747429 -0.99619675 -1.1360517\n",
      " -1.08519536 -1.16147987 -1.67004332 -2.11503634 -1.94975322 -2.03875182\n",
      " -1.83532644 -1.21233622 -1.69547149 -1.67004332 -2.11503634 -1.23776439\n",
      "  0.7964894  -0.56391782  0.74563305 -0.84362772 -0.56391782 -0.47491922\n",
      " -0.6783446  -1.86075461 -1.83532644 -1.79718418 -1.42847568 -1.63190106\n",
      " -1.68275741 -0.62748825 -0.94534041 -0.10621072 -1.0470531  -1.26319256\n",
      " -1.69547149 -1.45390385 -1.36490525 -1.35219116 -1.54290246 -0.90719815\n",
      " -0.95805449 -0.70377277 -0.93262632 -1.26319256 -1.0470531  -1.53018837\n",
      " -1.64461515 -1.68275741 -1.12333761 -1.4157616  -0.57663191 -0.41134879\n",
      " -0.79277137 -1.37761934 -1.25047848 -0.8563418  -1.14876579 -0.95805449\n",
      " -1.09790944 -1.0470531  -0.81819955 -0.70377277 -0.48763331 -0.8563418\n",
      " -0.95805449 -1.1360517  -1.03433901 -0.8563418  -0.20792341 -0.66563051\n",
      " -0.50034739 -0.27149384 -0.18249524 -0.0299262  -0.2206375  -0.33506427\n",
      " -0.32235018 -0.32235018 -0.19520932 -0.2206375  -0.25877975  0.19892735\n",
      "  1.03805704 -0.99619675 -1.05976718 -0.62748825 -1.2250503  -0.89448406\n",
      " -0.0299262   0.17349918  0.26249778  0.4277809   0.02093014 -0.13163889\n",
      " -0.05535438 -0.32235018 -0.13163889 -0.81819955 -1.86075461 -1.72089966\n",
      " -1.02162492 -0.19520932  0.02093014  0.36421047  0.18621326 -0.24606567\n",
      " -0.42406287 -0.05535438 -0.52577556 -0.61477417  0.09721466 -0.13163889\n",
      "  0.28792595  0.04635831 -1.23776439]\n"
     ]
    }
   ],
   "source": [
    "y=preprocessing.scale(y)\n",
    "print(y)"
   ]
  },
  {
   "cell_type": "code",
   "execution_count": 15,
   "id": "29e3b727",
   "metadata": {},
   "outputs": [],
   "source": [
    "from sklearn.model_selection import train_test_split\n",
    "xtrain,xtest,ytrain,ytest=train_test_split(x,y,test_size=0.2)"
   ]
  },
  {
   "cell_type": "code",
   "execution_count": 16,
   "id": "23afd689",
   "metadata": {},
   "outputs": [
    {
     "name": "stdout",
     "output_type": "stream",
     "text": [
      "(391, 3)\n",
      "(391,)\n",
      "(98, 3)\n",
      "(98,)\n"
     ]
    }
   ],
   "source": [
    "print(xtrain.shape)\n",
    "\n",
    "print(ytrain.shape)\n",
    "\n",
    "print(xtest.shape)\n",
    "\n",
    "print(ytest.shape)"
   ]
  },
  {
   "cell_type": "code",
   "execution_count": 17,
   "id": "4d1b5551",
   "metadata": {},
   "outputs": [
    {
     "data": {
      "text/plain": [
       "0.7157187646134691"
      ]
     },
     "execution_count": 17,
     "metadata": {},
     "output_type": "execute_result"
    }
   ],
   "source": [
    "from sklearn.linear_model import LinearRegression\n",
    "model=LinearRegression()\n",
    "model.fit(xtrain,ytrain)\n",
    "model.score(xtrain,ytrain)"
   ]
  },
  {
   "cell_type": "code",
   "execution_count": 18,
   "id": "f14abadc",
   "metadata": {},
   "outputs": [
    {
     "data": {
      "text/plain": [
       "array([ 0.6721304 , -0.03946923,  0.95853811,  0.6141854 ,  1.82489078,\n",
       "       -1.11712225, -0.97259952,  0.29568908,  0.78293803, -0.45688995,\n",
       "        0.18789094, -0.1346663 , -0.12326124,  1.35517687, -0.71606829,\n",
       "       -1.67199158, -1.47680775,  1.54449975,  1.13977924, -0.18266695,\n",
       "        0.40961323, -0.19966221,  0.78034993, -0.56116199,  0.11226551,\n",
       "       -0.94041109, -0.22169485,  0.25886998,  0.23524767, -0.83103114,\n",
       "       -0.32076108, -1.52282182, -0.95125399,  0.41420712,  0.3222641 ,\n",
       "        0.93950157,  0.7265662 , -0.27161513, -1.1524211 , -0.38184521,\n",
       "       -0.04019156,  0.47583767,  0.67747765, -0.51445293, -0.26890716,\n",
       "        0.4268989 , -2.08004139, -1.55092267, -0.6713495 , -0.42653931,\n",
       "       -0.50201069,  0.33790584,  0.78355725, -0.06686013,  0.21111336,\n",
       "        0.4905105 ,  0.25439724,  1.77892099, -0.21658623,  1.37008337,\n",
       "       -0.05041875,  0.41550223,  0.58856898,  0.58802251,  0.52018535,\n",
       "       -2.35093081,  1.03747925,  0.76580311, -0.5427614 ,  0.00270916,\n",
       "       -0.47247746,  0.44855932,  0.42340049, -0.44827203,  0.48244556,\n",
       "        0.85237759, -1.24192839,  1.10114741, -0.67766746, -0.42149255,\n",
       "       -0.3245085 , -0.54475351, -0.41680976,  0.01758153, -0.98723285,\n",
       "        1.65055705,  1.72623311, -0.38125674,  0.69112111, -0.478613  ,\n",
       "        1.21803865, -0.38830572, -0.05986605, -0.30934533,  2.24404942,\n",
       "       -1.13374364, -1.16669148,  0.10133635])"
      ]
     },
     "execution_count": 18,
     "metadata": {},
     "output_type": "execute_result"
    }
   ],
   "source": [
    "ypred=model.predict(xtest)\n",
    "ypred"
   ]
  },
  {
   "cell_type": "code",
   "execution_count": 19,
   "id": "2a06bbb3",
   "metadata": {},
   "outputs": [
    {
     "data": {
      "text/plain": [
       "0.6261483839986748"
      ]
     },
     "execution_count": 19,
     "metadata": {},
     "output_type": "execute_result"
    }
   ],
   "source": [
    "from sklearn.metrics import r2_score\n",
    "score=r2_score(ypred,ytest)\n",
    "score"
   ]
  },
  {
   "cell_type": "markdown",
   "id": "19563d93",
   "metadata": {},
   "source": [
    "#### RIDGE METHOD"
   ]
  },
  {
   "cell_type": "code",
   "execution_count": 20,
   "id": "9a5f9d4f",
   "metadata": {},
   "outputs": [
    {
     "data": {
      "text/plain": [
       "Ridge(alpha=0.1)"
      ]
     },
     "execution_count": 20,
     "metadata": {},
     "output_type": "execute_result"
    }
   ],
   "source": [
    "from sklearn.linear_model import Ridge\n",
    "reg=Ridge(alpha=0.10)\n",
    "reg.fit(xtrain,ytrain)"
   ]
  },
  {
   "cell_type": "code",
   "execution_count": 21,
   "id": "b9826159",
   "metadata": {},
   "outputs": [
    {
     "name": "stdout",
     "output_type": "stream",
     "text": [
      "Ridge model: [ 0.33929573 -0.46618096 -0.24543038]\n"
     ]
    }
   ],
   "source": [
    "ridge = Ridge(alpha=.3)\n",
    "\n",
    "ridge.fit(xtrain,ytrain)\n",
    "\n",
    "print (\"Ridge model:\", (ridge.coef_))"
   ]
  },
  {
   "cell_type": "code",
   "execution_count": 22,
   "id": "df58e3cc",
   "metadata": {},
   "outputs": [
    {
     "name": "stdout",
     "output_type": "stream",
     "text": [
      "[ 0.6721304  -0.03946923  0.95853811  0.6141854   1.82489078 -1.11712225\n",
      " -0.97259952  0.29568908  0.78293803 -0.45688995  0.18789094 -0.1346663\n",
      " -0.12326124  1.35517687 -0.71606829 -1.67199158 -1.47680775  1.54449975\n",
      "  1.13977924 -0.18266695  0.40961323 -0.19966221  0.78034993 -0.56116199\n",
      "  0.11226551 -0.94041109 -0.22169485  0.25886998  0.23524767 -0.83103114\n",
      " -0.32076108 -1.52282182 -0.95125399  0.41420712  0.3222641   0.93950157\n",
      "  0.7265662  -0.27161513 -1.1524211  -0.38184521 -0.04019156  0.47583767\n",
      "  0.67747765 -0.51445293 -0.26890716  0.4268989  -2.08004139 -1.55092267\n",
      " -0.6713495  -0.42653931 -0.50201069  0.33790584  0.78355725 -0.06686013\n",
      "  0.21111336  0.4905105   0.25439724  1.77892099 -0.21658623  1.37008337\n",
      " -0.05041875  0.41550223  0.58856898  0.58802251  0.52018535 -2.35093081\n",
      "  1.03747925  0.76580311 -0.5427614   0.00270916 -0.47247746  0.44855932\n",
      "  0.42340049 -0.44827203  0.48244556  0.85237759 -1.24192839  1.10114741\n",
      " -0.67766746 -0.42149255 -0.3245085  -0.54475351 -0.41680976  0.01758153\n",
      " -0.98723285  1.65055705  1.72623311 -0.38125674  0.69112111 -0.478613\n",
      "  1.21803865 -0.38830572 -0.05986605 -0.30934533  2.24404942 -1.13374364\n",
      " -1.16669148  0.10133635]\n"
     ]
    }
   ],
   "source": [
    "ypred=model.predict(xtest)\n",
    "print(ypred)"
   ]
  },
  {
   "cell_type": "code",
   "execution_count": 23,
   "id": "2a014eea",
   "metadata": {},
   "outputs": [
    {
     "data": {
      "text/plain": [
       "0.6261483839986748"
      ]
     },
     "execution_count": 23,
     "metadata": {},
     "output_type": "execute_result"
    }
   ],
   "source": [
    "score=r2_score(ypred,ytest)\n",
    "score"
   ]
  },
  {
   "cell_type": "code",
   "execution_count": 24,
   "id": "e4d2cef5",
   "metadata": {},
   "outputs": [
    {
     "name": "stdout",
     "output_type": "stream",
     "text": [
      "Lasso model: [ 0.28018033 -0.4267387  -0.17589552]\n"
     ]
    }
   ],
   "source": [
    "from sklearn.linear_model import Lasso\n",
    "lasso = Lasso(alpha=0.1)\n",
    "lasso.fit(xtrain,ytrain)\n",
    "print (\"Lasso model:\", (lasso.coef_))"
   ]
  },
  {
   "cell_type": "code",
   "execution_count": 25,
   "id": "70096f73",
   "metadata": {},
   "outputs": [
    {
     "data": {
      "text/plain": [
       "array([ 0.6721304 , -0.03946923,  0.95853811,  0.6141854 ,  1.82489078,\n",
       "       -1.11712225, -0.97259952,  0.29568908,  0.78293803, -0.45688995,\n",
       "        0.18789094, -0.1346663 , -0.12326124,  1.35517687, -0.71606829,\n",
       "       -1.67199158, -1.47680775,  1.54449975,  1.13977924, -0.18266695,\n",
       "        0.40961323, -0.19966221,  0.78034993, -0.56116199,  0.11226551,\n",
       "       -0.94041109, -0.22169485,  0.25886998,  0.23524767, -0.83103114,\n",
       "       -0.32076108, -1.52282182, -0.95125399,  0.41420712,  0.3222641 ,\n",
       "        0.93950157,  0.7265662 , -0.27161513, -1.1524211 , -0.38184521,\n",
       "       -0.04019156,  0.47583767,  0.67747765, -0.51445293, -0.26890716,\n",
       "        0.4268989 , -2.08004139, -1.55092267, -0.6713495 , -0.42653931,\n",
       "       -0.50201069,  0.33790584,  0.78355725, -0.06686013,  0.21111336,\n",
       "        0.4905105 ,  0.25439724,  1.77892099, -0.21658623,  1.37008337,\n",
       "       -0.05041875,  0.41550223,  0.58856898,  0.58802251,  0.52018535,\n",
       "       -2.35093081,  1.03747925,  0.76580311, -0.5427614 ,  0.00270916,\n",
       "       -0.47247746,  0.44855932,  0.42340049, -0.44827203,  0.48244556,\n",
       "        0.85237759, -1.24192839,  1.10114741, -0.67766746, -0.42149255,\n",
       "       -0.3245085 , -0.54475351, -0.41680976,  0.01758153, -0.98723285,\n",
       "        1.65055705,  1.72623311, -0.38125674,  0.69112111, -0.478613  ,\n",
       "        1.21803865, -0.38830572, -0.05986605, -0.30934533,  2.24404942,\n",
       "       -1.13374364, -1.16669148,  0.10133635])"
      ]
     },
     "execution_count": 25,
     "metadata": {},
     "output_type": "execute_result"
    }
   ],
   "source": [
    "ypred=model.predict(xtest)\n",
    "ypred"
   ]
  },
  {
   "cell_type": "markdown",
   "id": "8a544870",
   "metadata": {},
   "source": [
    "#### TRAINING AND TESTING ACCURACY OF ridge and lasso"
   ]
  },
  {
   "cell_type": "code",
   "execution_count": 26,
   "id": "37acbc7f",
   "metadata": {},
   "outputs": [
    {
     "name": "stdout",
     "output_type": "stream",
     "text": [
      "The training accuracy of Ridge is 0.7157187646134691\n",
      "The testing accuarcy of ridge is  0.7245909807813407\n"
     ]
    }
   ],
   "source": [
    "print(\"The training accuracy of Ridge is\",model.score(xtrain,ytrain))\n",
    "print(\"The testing accuarcy of ridge is \",model.score(xtest,ytest))"
   ]
  },
  {
   "cell_type": "code",
   "execution_count": 27,
   "id": "bd77472b",
   "metadata": {},
   "outputs": [
    {
     "name": "stdout",
     "output_type": "stream",
     "text": [
      "The training accuracy of Lasso is 0.7157187646134691\n",
      "The testing accuarcy of Lasso is  0.7245909807813407\n"
     ]
    }
   ],
   "source": [
    "print(\"The training accuracy of Lasso is\",model.score(xtrain,ytrain))\n",
    "print(\"The testing accuarcy of Lasso is \",model.score(xtest,ytest))"
   ]
  },
  {
   "cell_type": "code",
   "execution_count": null,
   "id": "b6a80a15",
   "metadata": {},
   "outputs": [],
   "source": []
  }
 ],
 "metadata": {
  "kernelspec": {
   "display_name": "Python 3",
   "language": "python",
   "name": "python3"
  },
  "language_info": {
   "codemirror_mode": {
    "name": "ipython",
    "version": 3
   },
   "file_extension": ".py",
   "mimetype": "text/x-python",
   "name": "python",
   "nbconvert_exporter": "python",
   "pygments_lexer": "ipython3",
   "version": "3.7.3"
  }
 },
 "nbformat": 4,
 "nbformat_minor": 5
}
